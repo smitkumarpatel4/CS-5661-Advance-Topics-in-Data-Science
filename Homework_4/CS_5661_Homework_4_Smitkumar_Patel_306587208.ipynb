{
 "cells": [
  {
   "cell_type": "markdown",
   "metadata": {},
   "source": [
    "# PATEL SMITKUMAR KAUSHIKKUMAR (CIN 306587208)\n",
    "# CS 5661 : Homework 1\n"
   ]
  },
  {
   "cell_type": "markdown",
   "metadata": {},
   "source": [
    "## Deep Convolutional Neural Networks (CNN) with Keras + TensorFlow"
   ]
  },
  {
   "cell_type": "markdown",
   "metadata": {
    "collapsed": true
   },
   "source": [
    "####  Write and submit your python codes in “Jupyter Notebook” to perform the following tasks.Make sure to provide proper descriptions as MarkDown for each section of your code.\n",
    "\n",
    "### Fashion Image Recognition using Deep Convolutional Neural Networks:\n",
    "------------------------------------------------------------------------------------------------------------------------\n",
    "\n",
    "#### In this question, we try to improve the accuracy of the Fashion Image Recognition system that we developed in the class in Lab5. Download and open the Lab5 ipython tutorial file (it is on CSNS under Lectures). Add the following lines on the top of your code to fix random seed for reproducibility:\n",
    "- import numpy as np\n",
    "- np.random.seed(0)\n",
    "\n",
    "#### Now, Modify the CNN structure and parameters to increase the testing accuracy as much as youcan, but I expect At LEAST 92% Accuracy on the TESTING Set.\n",
    "\n",
    "####  I want you to be creative and use all knowledge you have gained from this class to improve the results (don’t change the dataset, you can only change the CNN structure or learning parameters). Here are some ideas that you may want to use:\n",
    "\n",
    "- 1- Changing the structure or parameters of the CNN including all layers (Conv Layers, Poolinglayers, Dropout Layers, Fully Connected Layers, …).\n",
    "- 2- Making the Network more complex (when it is underfit), or less complex (when it isoverfit).\n",
    "- 3- Improve the training process (e.g. changing the epochs, changing the optimization or loss)\n",
    "\n",
    "#### Please Notice:\n",
    "- I- Of course there are infinite number ways to change the code to improve the results. Thus, I expect to receive a Unique code from each student.\n",
    "- II- You need to do a lot of Trial & Error. That is why I decided to use the Fashion Dataset since it includes small grayscale images, and everyone can process that on personal laptops. However, make sure to start early enough!\n",
    "- III- One student, who achieves the highest accuracy in the class (the winning student), will get 10% bonus on the overall grade of the course!"
   ]
  },
  {
   "cell_type": "code",
   "execution_count": 1,
   "metadata": {},
   "outputs": [],
   "source": [
    "import numpy as np\n",
    "np.random.seed(0)"
   ]
  },
  {
   "cell_type": "code",
   "execution_count": 2,
   "metadata": {},
   "outputs": [
    {
     "name": "stderr",
     "output_type": "stream",
     "text": [
      "Using TensorFlow backend.\n"
     ]
    }
   ],
   "source": [
    "# \"Sequential\" model lets us to define a stack of neural network layers\n",
    "from keras.models import Sequential\n",
    "\n",
    "# import the \"core\" layers:\n",
    "from keras.layers import Dense, Dropout, Activation, Flatten\n",
    "\n",
    "# CNN\n",
    "from keras.layers import Convolution2D, MaxPooling2D\n",
    "\n",
    "# import some utilities to transform our data\n",
    "from keras.utils import np_utils\n",
    "\n",
    "import numpy as np"
   ]
  },
  {
   "cell_type": "markdown",
   "metadata": {},
   "source": [
    "## Let's use the Fashion-MNIST Dataset including 60,000 28x28 grayscale images of 10 fashion categories, along with a test set of 10,000 images:\n",
    "\n",
    "0:\tT-shirt/top, \n",
    "1:\tTrouser,\n",
    "2:\tPullover,\n",
    "3:\tDress,\n",
    "4:\tCoat,\n",
    "5:\tSandal,\n",
    "6:\tShirt,\n",
    "7:\tSneaker,\n",
    "8:\tBag,\n",
    "9:\tAnkle boot "
   ]
  },
  {
   "cell_type": "code",
   "execution_count": 3,
   "metadata": {},
   "outputs": [],
   "source": [
    "# Keras will download MNIST dataset for us:\n",
    "from keras.datasets import fashion_mnist\n",
    " \n",
    "# By default, the first 60k of MNIST has been defined as training and the rest as testing set: \n",
    "(X_train, y_train), (X_test, y_test) = fashion_mnist.load_data()"
   ]
  },
  {
   "cell_type": "code",
   "execution_count": 4,
   "metadata": {},
   "outputs": [
    {
     "name": "stdout",
     "output_type": "stream",
     "text": [
      "(60000, 28, 28)\n",
      "(10000, 28, 28)\n"
     ]
    }
   ],
   "source": [
    "print(X_train.shape)\n",
    "print(X_test.shape)"
   ]
  },
  {
   "cell_type": "code",
   "execution_count": 5,
   "metadata": {},
   "outputs": [
    {
     "data": {
      "image/png": "[encoded data removed]",
      "text/plain": [
       "<Figure size 432x288 with 1 Axes>"
      ]
     },
     "metadata": {
      "needs_background": "light"
     },
     "output_type": "display_data"
    },
    {
     "data": {
      "image/png": "[encoded data removed]",
      "text/plain": [
       "<Figure size 432x288 with 1 Axes>"
      ]
     },
     "metadata": {
      "needs_background": "light"
     },
     "output_type": "display_data"
    },
    {
     "data": {
      "image/png": "[encoded data removed]",
      "text/plain": [
       "<Figure size 432x288 with 1 Axes>"
      ]
     },
     "metadata": {
      "needs_background": "light"
     },
     "output_type": "display_data"
    },
    {
     "data": {
      "image/png": "[encoded data removed]",
      "text/plain": [
       "<Figure size 432x288 with 1 Axes>"
      ]
     },
     "metadata": {
      "needs_background": "light"
     },
     "output_type": "display_data"
    }
   ],
   "source": [
    "%matplotlib inline\n",
    "\n",
    "import matplotlib.image as mpimg\n",
    "import matplotlib.pyplot as plt\n",
    "\n",
    "imgplot = plt.imshow(X_train[3,:,:],cmap='viridis')\n",
    "plt.show()\n",
    "imgplot = plt.imshow(X_train[16,:,:],cmap='viridis')\n",
    "plt.show()\n",
    "imgplot = plt.imshow(X_train[1,:,:],cmap='plasma')\n",
    "plt.show()\n",
    "imgplot = plt.imshow(X_train[9,:,:],cmap='magma')\n",
    "plt.show()"
   ]
  },
  {
   "cell_type": "code",
   "execution_count": 6,
   "metadata": {},
   "outputs": [],
   "source": [
    "X_train = X_train.reshape(X_train.shape[0], 28, 28, 1)\n",
    "X_test = X_test.reshape(X_test.shape[0], 28, 28, 1)"
   ]
  },
  {
   "cell_type": "code",
   "execution_count": 7,
   "metadata": {},
   "outputs": [
    {
     "name": "stdout",
     "output_type": "stream",
     "text": [
      "(60000, 28, 28, 1)\n",
      "(10000, 28, 28, 1)\n"
     ]
    }
   ],
   "source": [
    "print(X_train.shape)\n",
    "print(X_test.shape)"
   ]
  },
  {
   "cell_type": "code",
   "execution_count": 8,
   "metadata": {},
   "outputs": [],
   "source": [
    "# simply normalize the features to the range of [0,1]:\n",
    "X_train = X_train.astype('float32')\n",
    "X_test = X_test.astype('float32')\n",
    "X_train /= 255\n",
    "X_test /= 255"
   ]
  },
  {
   "cell_type": "code",
   "execution_count": 9,
   "metadata": {},
   "outputs": [
    {
     "name": "stdout",
     "output_type": "stream",
     "text": [
      "(60000,)\n",
      "[9 0 0 3 0 2 7 2 5 5]\n"
     ]
    }
   ],
   "source": [
    "# output label:\n",
    "print (y_train.shape)\n",
    "print (y_train[:10])"
   ]
  },
  {
   "cell_type": "code",
   "execution_count": 10,
   "metadata": {},
   "outputs": [],
   "source": [
    "# OneHotEncoding for the output label:\n",
    "y_train = np_utils.to_categorical(y_train, 10)\n",
    "y_test = np_utils.to_categorical(y_test, 10)\n"
   ]
  },
  {
   "cell_type": "code",
   "execution_count": 11,
   "metadata": {},
   "outputs": [
    {
     "name": "stdout",
     "output_type": "stream",
     "text": [
      "(60000, 10)\n",
      "[[0. 0. 0. 0. 0. 0. 0. 0. 0. 1.]\n",
      " [1. 0. 0. 0. 0. 0. 0. 0. 0. 0.]\n",
      " [1. 0. 0. 0. 0. 0. 0. 0. 0. 0.]\n",
      " [0. 0. 0. 1. 0. 0. 0. 0. 0. 0.]\n",
      " [1. 0. 0. 0. 0. 0. 0. 0. 0. 0.]\n",
      " [0. 0. 1. 0. 0. 0. 0. 0. 0. 0.]\n",
      " [0. 0. 0. 0. 0. 0. 0. 1. 0. 0.]\n",
      " [0. 0. 1. 0. 0. 0. 0. 0. 0. 0.]\n",
      " [0. 0. 0. 0. 0. 1. 0. 0. 0. 0.]\n",
      " [0. 0. 0. 0. 0. 1. 0. 0. 0. 0.]]\n"
     ]
    }
   ],
   "source": [
    "# Label after OneHotEncoding:\n",
    "print (y_train.shape)\n",
    "print (y_train[:10])"
   ]
  },
  {
   "cell_type": "markdown",
   "metadata": {},
   "source": [
    "## Define the Network Architecture (model):"
   ]
  },
  {
   "cell_type": "code",
   "execution_count": 12,
   "metadata": {},
   "outputs": [],
   "source": [
    "# Declare Sequential model fro our network:\n",
    "model = Sequential()"
   ]
  },
  {
   "cell_type": "code",
   "execution_count": 13,
   "metadata": {},
   "outputs": [
    {
     "name": "stdout",
     "output_type": "stream",
     "text": [
      "WARNING:tensorflow:From C:\\Users\\smitk\\Anaconda3\\lib\\site-packages\\tensorflow\\python\\framework\\op_def_library.py:263: colocate_with (from tensorflow.python.framework.ops) is deprecated and will be removed in a future version.\n",
      "Instructions for updating:\n",
      "Colocations handled automatically by placer.\n",
      "(None, 26, 26, 32)\n"
     ]
    }
   ],
   "source": [
    "# CNN first layer (with 32 3x3 filter):\n",
    "model.add(Convolution2D(32, (3, 3), activation='relu', input_shape=(28,28,1)))\n",
    "print(model.output_shape) # -> (None, 26, 26, 32)\n",
    "\n",
    "# If your image batch is of N images of HxW size with C channels: \n",
    "# theano uses the NCHW ordering while tensorflow uses the NHWC ordering."
   ]
  },
  {
   "cell_type": "code",
   "execution_count": 14,
   "metadata": {},
   "outputs": [
    {
     "name": "stdout",
     "output_type": "stream",
     "text": [
      "(None, 24, 24, 32)\n",
      "(None, 12, 12, 32)\n",
      "WARNING:tensorflow:From C:\\Users\\smitk\\Anaconda3\\lib\\site-packages\\keras\\backend\\tensorflow_backend.py:3445: calling dropout (from tensorflow.python.ops.nn_ops) with keep_prob is deprecated and will be removed in a future version.\n",
      "Instructions for updating:\n",
      "Please use `rate` instead of `keep_prob`. Rate should be set to `rate = 1 - keep_prob`.\n"
     ]
    }
   ],
   "source": [
    "# more hidden layers:\n",
    "model.add(Convolution2D(32, (3, 3), activation='relu'))\n",
    "print(model.output_shape)\n",
    "\n",
    "# Pooling Layer:\n",
    "model.add(MaxPooling2D(pool_size=(2,2)))\n",
    "print(model.output_shape)\n",
    "\n",
    "# Dropout layer to avoid overfitting\n",
    "model.add(Dropout(0.25)) \n"
   ]
  },
  {
   "cell_type": "code",
   "execution_count": 15,
   "metadata": {},
   "outputs": [
    {
     "name": "stdout",
     "output_type": "stream",
     "text": [
      "(None, 4608)\n",
      "(None, 128)\n",
      "(None, 10)\n"
     ]
    }
   ],
   "source": [
    "# output Fully connected Dense layers:\n",
    "model.add(Flatten())\n",
    "print(model.output_shape)\n",
    "\n",
    "model.add(Dense(128, activation='relu'))\n",
    "print(model.output_shape)\n",
    "\n",
    "model.add(Dropout(0.5))\n",
    "model.add(Dense(10, activation='softmax'))\n",
    "print(model.output_shape)"
   ]
  },
  {
   "cell_type": "markdown",
   "metadata": {},
   "source": [
    "## Compile the model:\n",
    "#### We need to compile the model and then it will be ready to train it:"
   ]
  },
  {
   "cell_type": "code",
   "execution_count": 16,
   "metadata": {},
   "outputs": [
    {
     "name": "stdout",
     "output_type": "stream",
     "text": [
      "_________________________________________________________________\n",
      "Layer (type)                 Output Shape              Param #   \n",
      "=================================================================\n",
      "conv2d_1 (Conv2D)            (None, 26, 26, 32)        320       \n",
      "_________________________________________________________________\n",
      "conv2d_2 (Conv2D)            (None, 24, 24, 32)        9248      \n",
      "_________________________________________________________________\n",
      "max_pooling2d_1 (MaxPooling2 (None, 12, 12, 32)        0         \n",
      "_________________________________________________________________\n",
      "dropout_1 (Dropout)          (None, 12, 12, 32)        0         \n",
      "_________________________________________________________________\n",
      "flatten_1 (Flatten)          (None, 4608)              0         \n",
      "_________________________________________________________________\n",
      "dense_1 (Dense)              (None, 128)               589952    \n",
      "_________________________________________________________________\n",
      "dropout_2 (Dropout)          (None, 128)               0         \n",
      "_________________________________________________________________\n",
      "dense_2 (Dense)              (None, 10)                1290      \n",
      "=================================================================\n",
      "Total params: 600,810\n",
      "Trainable params: 600,810\n",
      "Non-trainable params: 0\n",
      "_________________________________________________________________\n",
      "None\n"
     ]
    }
   ],
   "source": [
    "model.compile(loss='categorical_crossentropy',metrics=['accuracy'],\n",
    "              optimizer='adam')\n",
    "# more info about loss functions: https://keras.io/losses\n",
    "# more infor about Optimizers: https://keras.io/optimizers\n",
    "\n",
    "print(model.summary())"
   ]
  },
  {
   "cell_type": "markdown",
   "metadata": {},
   "source": [
    "## Training:"
   ]
  },
  {
   "cell_type": "code",
   "execution_count": 17,
   "metadata": {
    "scrolled": false
   },
   "outputs": [
    {
     "name": "stdout",
     "output_type": "stream",
     "text": [
      "WARNING:tensorflow:From C:\\Users\\smitk\\Anaconda3\\lib\\site-packages\\tensorflow\\python\\ops\\math_ops.py:3066: to_int32 (from tensorflow.python.ops.math_ops) is deprecated and will be removed in a future version.\n",
      "Instructions for updating:\n",
      "Use tf.cast instead.\n",
      "Train on 45000 samples, validate on 15000 samples\n",
      "Epoch 1/25\n",
      "45000/45000 [==============================] - 189s 4ms/step - loss: 0.5207 - acc: 0.8150 - val_loss: 0.3333 - val_acc: 0.8767\n",
      "Epoch 2/25\n",
      "45000/45000 [==============================] - 192s 4ms/step - loss: 0.3542 - acc: 0.8728 - val_loss: 0.2754 - val_acc: 0.8967\n",
      "Epoch 3/25\n",
      "45000/45000 [==============================] - 189s 4ms/step - loss: 0.3048 - acc: 0.8891 - val_loss: 0.2510 - val_acc: 0.9056\n",
      "Epoch 4/25\n",
      "45000/45000 [==============================] - 189s 4ms/step - loss: 0.2711 - acc: 0.9019 - val_loss: 0.2403 - val_acc: 0.9103\n",
      "Epoch 5/25\n",
      "45000/45000 [==============================] - 189s 4ms/step - loss: 0.2470 - acc: 0.9098 - val_loss: 0.2249 - val_acc: 0.9168\n",
      "Epoch 6/25\n",
      "45000/45000 [==============================] - 191s 4ms/step - loss: 0.2281 - acc: 0.9177 - val_loss: 0.2173 - val_acc: 0.9213\n",
      "Epoch 7/25\n",
      "45000/45000 [==============================] - 197s 4ms/step - loss: 0.2105 - acc: 0.9202 - val_loss: 0.2172 - val_acc: 0.9207\n",
      "Epoch 8/25\n",
      "45000/45000 [==============================] - 184s 4ms/step - loss: 0.1994 - acc: 0.9258 - val_loss: 0.2228 - val_acc: 0.9231\n",
      "Epoch 9/25\n",
      "45000/45000 [==============================] - 188s 4ms/step - loss: 0.1846 - acc: 0.9307 - val_loss: 0.2257 - val_acc: 0.9170\n",
      "Epoch 10/25\n",
      "45000/45000 [==============================] - 193s 4ms/step - loss: 0.1758 - acc: 0.9322 - val_loss: 0.2178 - val_acc: 0.9244\n",
      "Epoch 11/25\n",
      "45000/45000 [==============================] - 193s 4ms/step - loss: 0.1698 - acc: 0.9376 - val_loss: 0.2300 - val_acc: 0.9233\n",
      "Epoch 12/25\n",
      "45000/45000 [==============================] - 190s 4ms/step - loss: 0.1583 - acc: 0.9403 - val_loss: 0.2219 - val_acc: 0.9220\n",
      "Epoch 13/25\n",
      "45000/45000 [==============================] - 190s 4ms/step - loss: 0.1556 - acc: 0.9412 - val_loss: 0.2199 - val_acc: 0.9247\n",
      "Epoch 14/25\n",
      "45000/45000 [==============================] - 1506s 33ms/step - loss: 0.1432 - acc: 0.9463 - val_loss: 0.2388 - val_acc: 0.9246\n",
      "Epoch 15/25\n",
      "45000/45000 [==============================] - 150s 3ms/step - loss: 0.1417 - acc: 0.9464 - val_loss: 0.2416 - val_acc: 0.9203\n",
      "Epoch 16/25\n",
      "45000/45000 [==============================] - 188s 4ms/step - loss: 0.1369 - acc: 0.9476 - val_loss: 0.2268 - val_acc: 0.9258\n",
      "Epoch 17/25\n",
      "45000/45000 [==============================] - 188s 4ms/step - loss: 0.1324 - acc: 0.9499 - val_loss: 0.2283 - val_acc: 0.9279\n",
      "Epoch 18/25\n",
      "45000/45000 [==============================] - 189s 4ms/step - loss: 0.1244 - acc: 0.9534 - val_loss: 0.2563 - val_acc: 0.9248\n",
      "Epoch 19/25\n",
      "45000/45000 [==============================] - 189s 4ms/step - loss: 0.1257 - acc: 0.9529 - val_loss: 0.2494 - val_acc: 0.9245\n",
      "Epoch 20/25\n",
      "45000/45000 [==============================] - 188s 4ms/step - loss: 0.1182 - acc: 0.9546 - val_loss: 0.2634 - val_acc: 0.9265\n",
      "Epoch 21/25\n",
      "45000/45000 [==============================] - 204s 5ms/step - loss: 0.1187 - acc: 0.9551 - val_loss: 0.2544 - val_acc: 0.9265\n",
      "Epoch 22/25\n",
      "45000/45000 [==============================] - 187s 4ms/step - loss: 0.1144 - acc: 0.9570 - val_loss: 0.2401 - val_acc: 0.9267\n",
      "Epoch 23/25\n",
      "45000/45000 [==============================] - 187s 4ms/step - loss: 0.1126 - acc: 0.9580 - val_loss: 0.2602 - val_acc: 0.9273\n",
      "Epoch 24/25\n",
      "45000/45000 [==============================] - 189s 4ms/step - loss: 0.1069 - acc: 0.9598 - val_loss: 0.2562 - val_acc: 0.9270\n",
      "Epoch 25/25\n",
      "45000/45000 [==============================] - 186s 4ms/step - loss: 0.1052 - acc: 0.9597 - val_loss: 0.2429 - val_acc: 0.9245\n"
     ]
    }
   ],
   "source": [
    "# history = model.fit(X_train, y_train, batch_size=32, epochs=3, verbose=1)\n",
    "history = model.fit(X_train, y_train, validation_split=0.25, batch_size=32, epochs=25, verbose=1)\n",
    "\n",
    "# batch_size: Integer or None. Number of samples per gradient update. \n",
    "# epochs: Number of iteration over the entire x and y data provided. \n",
    "# verbose: 0, 1, or 2. how want to see the training progress. 0 = silent, 1 = progress bar, 2 = one line per epoch.\n",
    "# validation_split: Float between 0 and 1. Fraction of the training data to be used as validation data. \n",
    "# You can add some callbacks to get a view on internal states and statistics of the model during training:\n",
    "# https://keras.io/callbacks/     "
   ]
  },
  {
   "cell_type": "code",
   "execution_count": 18,
   "metadata": {},
   "outputs": [],
   "source": [
    "# Training with Validation:\n",
    "# from keras.callbacks import EarlyStopping\n",
    "# early_stopping = EarlyStopping(monitor='val_loss', patience=2)\n",
    "# fitted_model = model.fit(X_train, y_train, validation_split=0.25, batch_size=32, epochs=15, verbose=1)"
   ]
  },
  {
   "cell_type": "code",
   "execution_count": 19,
   "metadata": {},
   "outputs": [
    {
     "data": {
      "text/plain": [
       "<matplotlib.legend.Legend at 0x21e1b931f60>"
      ]
     },
     "execution_count": 19,
     "metadata": {},
     "output_type": "execute_result"
    },
    {
     "data": {
      "image/png": "[encoded data removed]",
      "text/plain": [
       "<Figure size 432x288 with 1 Axes>"
      ]
     },
     "metadata": {
      "needs_background": "light"
     },
     "output_type": "display_data"
    },
    {
     "data": {
      "image/png": "[encoded data removed]",
      "text/plain": [
       "<Figure size 432x288 with 1 Axes>"
      ]
     },
     "metadata": {
      "needs_background": "light"
     },
     "output_type": "display_data"
    }
   ],
   "source": [
    "import matplotlib.pyplot as plt\n",
    "\n",
    "%matplotlib inline\n",
    "\n",
    "accuracy = history.history['acc']\n",
    "#val_accuracy = history.history['val_acc']\n",
    "loss = history.history['loss']\n",
    "#val_loss = history.history['val_loss']\n",
    "epochs = range(len(accuracy))\n",
    "plt.plot(epochs, accuracy, 'b-', label='Training accuracy')\n",
    "#plt.plot(epochs, val_accuracy, 'b', label='Validation accuracy')\n",
    "plt.title('Training and validation accuracy')\n",
    "plt.legend()\n",
    "plt.figure()\n",
    "plt.plot(epochs, loss, 'r-', label='Training loss')\n",
    "#plt.plot(epochs, val_loss, 'b', label='Validation loss')\n",
    "plt.title('Training and validation loss')\n",
    "plt.legend()\n",
    "# plt.show()"
   ]
  },
  {
   "cell_type": "markdown",
   "metadata": {},
   "source": [
    "## Testing:"
   ]
  },
  {
   "cell_type": "code",
   "execution_count": 20,
   "metadata": {},
   "outputs": [],
   "source": [
    "predicted_classes = model.predict_classes(X_test)"
   ]
  },
  {
   "cell_type": "code",
   "execution_count": 21,
   "metadata": {},
   "outputs": [
    {
     "name": "stdout",
     "output_type": "stream",
     "text": [
      "10000/10000 [==============================] - 10s 1ms/step\n",
      "The accuracy is:  0.9224\n"
     ]
    }
   ],
   "source": [
    "# Testing:\n",
    "score = model.evaluate(X_test, y_test, verbose=1)\n",
    "print('The accuracy is: ', score[1])"
   ]
  },
  {
   "cell_type": "code",
   "execution_count": null,
   "metadata": {
    "collapsed": true
   },
   "outputs": [],
   "source": []
  }
 ],
 "metadata": {
  "kernelspec": {
   "display_name": "Python 3",
   "language": "python",
   "name": "python3"
  },
  "language_info": {
   "codemirror_mode": {
    "name": "ipython",
    "version": 3
   },
   "file_extension": ".py",
   "mimetype": "text/x-python",
   "name": "python",
   "nbconvert_exporter": "python",
   "pygments_lexer": "ipython3",
   "version": "3.7.1"
  }
 },
 "nbformat": 4,
 "nbformat_minor": 2
}
