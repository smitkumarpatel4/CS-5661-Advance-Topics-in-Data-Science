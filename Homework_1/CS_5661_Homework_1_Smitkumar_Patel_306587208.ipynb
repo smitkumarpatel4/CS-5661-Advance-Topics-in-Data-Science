{
 "cells": [
  {
   "cell_type": "markdown",
   "metadata": {},
   "source": [
    "# PATEL SMITKUMAR KAUSHIKKUMAR (CIN 306587208)\n",
    "# CS 5661 : Homework 1\n"
   ]
  },
  {
   "cell_type": "markdown",
   "metadata": {},
   "source": [
    "# Cancer Diagnosis Using Machine Learning\n",
    "\n",
    "### Write and submit your python codes in “Jupyter Notebook” to perform the following tasks. Make sure to provide proper descriptions as MarkDown for each section of your code. In this homework, we work with a real dataset from UCI Dataset."
   ]
  },
  {
   "cell_type": "markdown",
   "metadata": {},
   "source": [
    "##### a- Read the dataset file “Cancer.csv” (you should download it from CSNS), and store it in a Pandas DataFrame. Check out the dataset. The dataset includes 9 numerical features. The last column is the binary label (“1” means it is a malignant cancer, “0” means it is a benign tumor). You will use all 9 features in this homework."
   ]
  },
  {
   "cell_type": "code",
   "execution_count": 1,
   "metadata": {},
   "outputs": [],
   "source": [
    "# Required Libraries \n",
    "import pandas as pd\n",
    "import numpy as np\n",
    "from sklearn import metrics\n",
    "from sklearn.model_selection import cross_val_score\n",
    "from sklearn.model_selection import train_test_split\n",
    "from sklearn.tree import DecisionTreeClassifier\n",
    "from sklearn.metrics import accuracy_score\n",
    "from sklearn.ensemble import AdaBoostClassifier\n",
    "from sklearn.ensemble import RandomForestClassifier\n",
    "from sklearn.utils import resample\n",
    "\n",
    "from xgboost import XGBClassifier\n",
    "\n",
    "%matplotlib inline\n",
    "import matplotlib.pyplot as plt"
   ]
  },
  {
   "cell_type": "code",
   "execution_count": 2,
   "metadata": {},
   "outputs": [
    {
     "data": {
      "text/html": [
       "<div>\n",
       "<style scoped>\n",
       "    .dataframe tbody tr th:only-of-type {\n",
       "        vertical-align: middle;\n",
       "    }\n",
       "\n",
       "    .dataframe tbody tr th {\n",
       "        vertical-align: top;\n",
       "    }\n",
       "\n",
       "    .dataframe thead th {\n",
       "        text-align: right;\n",
       "    }\n",
       "</style>\n",
       "<table border=\"1\" class=\"dataframe\">\n",
       "  <thead>\n",
       "    <tr style=\"text-align: right;\">\n",
       "      <th></th>\n",
       "      <th>Clump_Thickness</th>\n",
       "      <th>Uniformity_of_Cell_Size</th>\n",
       "      <th>Uniformity_of_Cell_Shape</th>\n",
       "      <th>Marginal_Adhesion</th>\n",
       "      <th>Single_Epithelial_Cell_Size</th>\n",
       "      <th>Bare_Nuclei</th>\n",
       "      <th>Bland_Chromatin</th>\n",
       "      <th>Normal_Nucleoli</th>\n",
       "      <th>Mitoses</th>\n",
       "      <th>Malignant_Cancer</th>\n",
       "    </tr>\n",
       "  </thead>\n",
       "  <tbody>\n",
       "    <tr>\n",
       "      <th>0</th>\n",
       "      <td>5</td>\n",
       "      <td>1</td>\n",
       "      <td>1</td>\n",
       "      <td>1</td>\n",
       "      <td>2</td>\n",
       "      <td>1</td>\n",
       "      <td>3</td>\n",
       "      <td>1</td>\n",
       "      <td>1</td>\n",
       "      <td>0</td>\n",
       "    </tr>\n",
       "    <tr>\n",
       "      <th>10</th>\n",
       "      <td>5</td>\n",
       "      <td>3</td>\n",
       "      <td>3</td>\n",
       "      <td>3</td>\n",
       "      <td>2</td>\n",
       "      <td>3</td>\n",
       "      <td>4</td>\n",
       "      <td>4</td>\n",
       "      <td>1</td>\n",
       "      <td>1</td>\n",
       "    </tr>\n",
       "    <tr>\n",
       "      <th>20</th>\n",
       "      <td>5</td>\n",
       "      <td>4</td>\n",
       "      <td>4</td>\n",
       "      <td>9</td>\n",
       "      <td>2</td>\n",
       "      <td>10</td>\n",
       "      <td>5</td>\n",
       "      <td>6</td>\n",
       "      <td>1</td>\n",
       "      <td>1</td>\n",
       "    </tr>\n",
       "    <tr>\n",
       "      <th>30</th>\n",
       "      <td>9</td>\n",
       "      <td>5</td>\n",
       "      <td>8</td>\n",
       "      <td>1</td>\n",
       "      <td>2</td>\n",
       "      <td>3</td>\n",
       "      <td>2</td>\n",
       "      <td>1</td>\n",
       "      <td>5</td>\n",
       "      <td>1</td>\n",
       "    </tr>\n",
       "    <tr>\n",
       "      <th>40</th>\n",
       "      <td>5</td>\n",
       "      <td>3</td>\n",
       "      <td>5</td>\n",
       "      <td>5</td>\n",
       "      <td>3</td>\n",
       "      <td>3</td>\n",
       "      <td>4</td>\n",
       "      <td>10</td>\n",
       "      <td>1</td>\n",
       "      <td>1</td>\n",
       "    </tr>\n",
       "    <tr>\n",
       "      <th>50</th>\n",
       "      <td>5</td>\n",
       "      <td>1</td>\n",
       "      <td>3</td>\n",
       "      <td>1</td>\n",
       "      <td>2</td>\n",
       "      <td>1</td>\n",
       "      <td>2</td>\n",
       "      <td>1</td>\n",
       "      <td>1</td>\n",
       "      <td>0</td>\n",
       "    </tr>\n",
       "    <tr>\n",
       "      <th>60</th>\n",
       "      <td>2</td>\n",
       "      <td>2</td>\n",
       "      <td>2</td>\n",
       "      <td>1</td>\n",
       "      <td>1</td>\n",
       "      <td>1</td>\n",
       "      <td>7</td>\n",
       "      <td>1</td>\n",
       "      <td>1</td>\n",
       "      <td>0</td>\n",
       "    </tr>\n",
       "    <tr>\n",
       "      <th>70</th>\n",
       "      <td>1</td>\n",
       "      <td>1</td>\n",
       "      <td>1</td>\n",
       "      <td>1</td>\n",
       "      <td>2</td>\n",
       "      <td>1</td>\n",
       "      <td>3</td>\n",
       "      <td>1</td>\n",
       "      <td>1</td>\n",
       "      <td>0</td>\n",
       "    </tr>\n",
       "    <tr>\n",
       "      <th>80</th>\n",
       "      <td>10</td>\n",
       "      <td>3</td>\n",
       "      <td>5</td>\n",
       "      <td>1</td>\n",
       "      <td>10</td>\n",
       "      <td>5</td>\n",
       "      <td>3</td>\n",
       "      <td>10</td>\n",
       "      <td>2</td>\n",
       "      <td>1</td>\n",
       "    </tr>\n",
       "    <tr>\n",
       "      <th>90</th>\n",
       "      <td>1</td>\n",
       "      <td>3</td>\n",
       "      <td>1</td>\n",
       "      <td>2</td>\n",
       "      <td>2</td>\n",
       "      <td>2</td>\n",
       "      <td>5</td>\n",
       "      <td>3</td>\n",
       "      <td>2</td>\n",
       "      <td>0</td>\n",
       "    </tr>\n",
       "    <tr>\n",
       "      <th>100</th>\n",
       "      <td>5</td>\n",
       "      <td>3</td>\n",
       "      <td>5</td>\n",
       "      <td>1</td>\n",
       "      <td>8</td>\n",
       "      <td>10</td>\n",
       "      <td>5</td>\n",
       "      <td>3</td>\n",
       "      <td>1</td>\n",
       "      <td>1</td>\n",
       "    </tr>\n",
       "    <tr>\n",
       "      <th>110</th>\n",
       "      <td>5</td>\n",
       "      <td>5</td>\n",
       "      <td>5</td>\n",
       "      <td>6</td>\n",
       "      <td>3</td>\n",
       "      <td>10</td>\n",
       "      <td>3</td>\n",
       "      <td>1</td>\n",
       "      <td>1</td>\n",
       "      <td>1</td>\n",
       "    </tr>\n",
       "    <tr>\n",
       "      <th>120</th>\n",
       "      <td>8</td>\n",
       "      <td>6</td>\n",
       "      <td>5</td>\n",
       "      <td>4</td>\n",
       "      <td>3</td>\n",
       "      <td>10</td>\n",
       "      <td>6</td>\n",
       "      <td>1</td>\n",
       "      <td>1</td>\n",
       "      <td>1</td>\n",
       "    </tr>\n",
       "    <tr>\n",
       "      <th>130</th>\n",
       "      <td>8</td>\n",
       "      <td>7</td>\n",
       "      <td>6</td>\n",
       "      <td>4</td>\n",
       "      <td>4</td>\n",
       "      <td>10</td>\n",
       "      <td>5</td>\n",
       "      <td>1</td>\n",
       "      <td>1</td>\n",
       "      <td>1</td>\n",
       "    </tr>\n",
       "    <tr>\n",
       "      <th>140</th>\n",
       "      <td>3</td>\n",
       "      <td>1</td>\n",
       "      <td>1</td>\n",
       "      <td>1</td>\n",
       "      <td>2</td>\n",
       "      <td>1</td>\n",
       "      <td>3</td>\n",
       "      <td>1</td>\n",
       "      <td>1</td>\n",
       "      <td>0</td>\n",
       "    </tr>\n",
       "  </tbody>\n",
       "</table>\n",
       "</div>"
      ],
      "text/plain": [
       "     Clump_Thickness  Uniformity_of_Cell_Size  Uniformity_of_Cell_Shape  \\\n",
       "0                  5                        1                         1   \n",
       "10                 5                        3                         3   \n",
       "20                 5                        4                         4   \n",
       "30                 9                        5                         8   \n",
       "40                 5                        3                         5   \n",
       "50                 5                        1                         3   \n",
       "60                 2                        2                         2   \n",
       "70                 1                        1                         1   \n",
       "80                10                        3                         5   \n",
       "90                 1                        3                         1   \n",
       "100                5                        3                         5   \n",
       "110                5                        5                         5   \n",
       "120                8                        6                         5   \n",
       "130                8                        7                         6   \n",
       "140                3                        1                         1   \n",
       "\n",
       "     Marginal_Adhesion  Single_Epithelial_Cell_Size  Bare_Nuclei  \\\n",
       "0                    1                            2            1   \n",
       "10                   3                            2            3   \n",
       "20                   9                            2           10   \n",
       "30                   1                            2            3   \n",
       "40                   5                            3            3   \n",
       "50                   1                            2            1   \n",
       "60                   1                            1            1   \n",
       "70                   1                            2            1   \n",
       "80                   1                           10            5   \n",
       "90                   2                            2            2   \n",
       "100                  1                            8           10   \n",
       "110                  6                            3           10   \n",
       "120                  4                            3           10   \n",
       "130                  4                            4           10   \n",
       "140                  1                            2            1   \n",
       "\n",
       "     Bland_Chromatin  Normal_Nucleoli  Mitoses  Malignant_Cancer  \n",
       "0                  3                1        1                 0  \n",
       "10                 4                4        1                 1  \n",
       "20                 5                6        1                 1  \n",
       "30                 2                1        5                 1  \n",
       "40                 4               10        1                 1  \n",
       "50                 2                1        1                 0  \n",
       "60                 7                1        1                 0  \n",
       "70                 3                1        1                 0  \n",
       "80                 3               10        2                 1  \n",
       "90                 5                3        2                 0  \n",
       "100                5                3        1                 1  \n",
       "110                3                1        1                 1  \n",
       "120                6                1        1                 1  \n",
       "130                5                1        1                 1  \n",
       "140                3                1        1                 0  "
      ]
     },
     "execution_count": 2,
     "metadata": {},
     "output_type": "execute_result"
    }
   ],
   "source": [
    "cancer_df = pd.read_csv(\"D:\\MASTERS\\SEMESTER_5\\CS 5661\\Homework\\Homework_1\\Cancer.csv\")\n",
    "cancer_df[0::10]"
   ]
  },
  {
   "cell_type": "code",
   "execution_count": 3,
   "metadata": {},
   "outputs": [
    {
     "data": {
      "text/plain": [
       "['Clump_Thickness',\n",
       " 'Uniformity_of_Cell_Size',\n",
       " 'Uniformity_of_Cell_Shape',\n",
       " 'Marginal_Adhesion',\n",
       " 'Single_Epithelial_Cell_Size',\n",
       " 'Bare_Nuclei',\n",
       " 'Bland_Chromatin',\n",
       " 'Normal_Nucleoli',\n",
       " 'Mitoses',\n",
       " 'Malignant_Cancer']"
      ]
     },
     "execution_count": 3,
     "metadata": {},
     "output_type": "execute_result"
    }
   ],
   "source": [
    "list(cancer_df)"
   ]
  },
  {
   "cell_type": "code",
   "execution_count": 4,
   "metadata": {},
   "outputs": [
    {
     "data": {
      "text/html": [
       "<div>\n",
       "<style scoped>\n",
       "    .dataframe tbody tr th:only-of-type {\n",
       "        vertical-align: middle;\n",
       "    }\n",
       "\n",
       "    .dataframe tbody tr th {\n",
       "        vertical-align: top;\n",
       "    }\n",
       "\n",
       "    .dataframe thead th {\n",
       "        text-align: right;\n",
       "    }\n",
       "</style>\n",
       "<table border=\"1\" class=\"dataframe\">\n",
       "  <thead>\n",
       "    <tr style=\"text-align: right;\">\n",
       "      <th></th>\n",
       "      <th>Clump_Thickness</th>\n",
       "      <th>Uniformity_of_Cell_Size</th>\n",
       "      <th>Uniformity_of_Cell_Shape</th>\n",
       "      <th>Marginal_Adhesion</th>\n",
       "      <th>Single_Epithelial_Cell_Size</th>\n",
       "      <th>Bare_Nuclei</th>\n",
       "      <th>Bland_Chromatin</th>\n",
       "      <th>Normal_Nucleoli</th>\n",
       "      <th>Mitoses</th>\n",
       "    </tr>\n",
       "  </thead>\n",
       "  <tbody>\n",
       "    <tr>\n",
       "      <th>0</th>\n",
       "      <td>5</td>\n",
       "      <td>1</td>\n",
       "      <td>1</td>\n",
       "      <td>1</td>\n",
       "      <td>2</td>\n",
       "      <td>1</td>\n",
       "      <td>3</td>\n",
       "      <td>1</td>\n",
       "      <td>1</td>\n",
       "    </tr>\n",
       "    <tr>\n",
       "      <th>1</th>\n",
       "      <td>5</td>\n",
       "      <td>4</td>\n",
       "      <td>4</td>\n",
       "      <td>5</td>\n",
       "      <td>7</td>\n",
       "      <td>10</td>\n",
       "      <td>3</td>\n",
       "      <td>2</td>\n",
       "      <td>1</td>\n",
       "    </tr>\n",
       "    <tr>\n",
       "      <th>2</th>\n",
       "      <td>3</td>\n",
       "      <td>1</td>\n",
       "      <td>1</td>\n",
       "      <td>1</td>\n",
       "      <td>2</td>\n",
       "      <td>2</td>\n",
       "      <td>3</td>\n",
       "      <td>1</td>\n",
       "      <td>1</td>\n",
       "    </tr>\n",
       "    <tr>\n",
       "      <th>3</th>\n",
       "      <td>6</td>\n",
       "      <td>8</td>\n",
       "      <td>8</td>\n",
       "      <td>1</td>\n",
       "      <td>3</td>\n",
       "      <td>4</td>\n",
       "      <td>3</td>\n",
       "      <td>7</td>\n",
       "      <td>1</td>\n",
       "    </tr>\n",
       "    <tr>\n",
       "      <th>4</th>\n",
       "      <td>4</td>\n",
       "      <td>1</td>\n",
       "      <td>1</td>\n",
       "      <td>3</td>\n",
       "      <td>2</td>\n",
       "      <td>1</td>\n",
       "      <td>3</td>\n",
       "      <td>1</td>\n",
       "      <td>1</td>\n",
       "    </tr>\n",
       "  </tbody>\n",
       "</table>\n",
       "</div>"
      ],
      "text/plain": [
       "   Clump_Thickness  Uniformity_of_Cell_Size  Uniformity_of_Cell_Shape  \\\n",
       "0                5                        1                         1   \n",
       "1                5                        4                         4   \n",
       "2                3                        1                         1   \n",
       "3                6                        8                         8   \n",
       "4                4                        1                         1   \n",
       "\n",
       "   Marginal_Adhesion  Single_Epithelial_Cell_Size  Bare_Nuclei  \\\n",
       "0                  1                            2            1   \n",
       "1                  5                            7           10   \n",
       "2                  1                            2            2   \n",
       "3                  1                            3            4   \n",
       "4                  3                            2            1   \n",
       "\n",
       "   Bland_Chromatin  Normal_Nucleoli  Mitoses  \n",
       "0                3                1        1  \n",
       "1                3                2        1  \n",
       "2                3                1        1  \n",
       "3                3                7        1  \n",
       "4                3                1        1  "
      ]
     },
     "execution_count": 4,
     "metadata": {},
     "output_type": "execute_result"
    }
   ],
   "source": [
    "feature_cols = ['Clump_Thickness', 'Uniformity_of_Cell_Size', 'Uniformity_of_Cell_Shape', 'Marginal_Adhesion', \n",
    "             'Single_Epithelial_Cell_Size', 'Bare_Nuclei', 'Bland_Chromatin', 'Normal_Nucleoli', 'Mitoses']\n",
    "X = cancer_df[feature_cols]\n",
    "X.head()"
   ]
  },
  {
   "cell_type": "code",
   "execution_count": 5,
   "metadata": {},
   "outputs": [
    {
     "data": {
      "text/plain": [
       "0    0\n",
       "1    0\n",
       "2    0\n",
       "3    0\n",
       "4    0\n",
       "Name: Malignant_Cancer, dtype: int64"
      ]
     },
     "execution_count": 5,
     "metadata": {},
     "output_type": "execute_result"
    }
   ],
   "source": [
    "y = cancer_df['Malignant_Cancer']\n",
    "y.head()"
   ]
  },
  {
   "cell_type": "markdown",
   "metadata": {},
   "source": [
    "##### b- Use sklearn functions to split the dataset into testing and training sets with the following parameters: \n",
    "- test_size=0.3, random_state=2."
   ]
  },
  {
   "cell_type": "code",
   "execution_count": 6,
   "metadata": {},
   "outputs": [],
   "source": [
    "X_train, X_test, y_train, y_test = train_test_split(X, y, test_size=0.3, random_state=2)"
   ]
  },
  {
   "cell_type": "markdown",
   "metadata": {},
   "source": [
    "##### c- Use “Decision Tree Classifier” to predict Cancer based on the training/testing datasets that you built in part (h). Then, calculate and report the accuracy and AUC of your classifier. Later in part (g), you will plot the ROC curve as well. \n",
    "\n",
    "##### Use this command to define your tree:\n",
    "- my_DecisionTree = DecisionTreeClassifier(random_state=2)."
   ]
  },
  {
   "cell_type": "code",
   "execution_count": 7,
   "metadata": {},
   "outputs": [
    {
     "name": "stdout",
     "output_type": "stream",
     "text": [
      "accuracy for Decisiontree:  0.8666666666666667\n",
      "AUC for Decisiontree 0.8697478991596639\n"
     ]
    }
   ],
   "source": [
    "decisiontree = DecisionTreeClassifier(random_state=2)\n",
    "decisiontree.fit(X_train, y_train)\n",
    "y_predict_dt = decisiontree.predict(X_test)\n",
    "accuracy_score_dt = accuracy_score(y_test, y_predict_dt)\n",
    "print('accuracy for Decisiontree: ', accuracy_score_dt)\n",
    "y_predict_prob_DT = decisiontree.predict_proba(X_test)\n",
    "\n",
    "fpr_DT, tpr_DT, thresholds_DT = metrics.roc_curve(y_test, y_predict_prob_DT[:,1], pos_label=1)\n",
    "AUC_DT = metrics.auc(fpr_DT, tpr_DT)\n",
    "print('AUC for Decisiontree',AUC_DT)\n",
    "\n"
   ]
  },
  {
   "cell_type": "markdown",
   "metadata": {},
   "source": [
    "##### d- Now, we want to perform “Bagging” based on 29 “base decision tree classifiers”.\n",
    "\n",
    "#####  Note: you should write your own code to perform Bagging (don’t use scikit-learn functionsfor Bagging!)\n",
    "    \n",
    "##### To do so, you need to perform bootstrapping first. You can write a “for” loop with loop variable i=0…18. In each iteration of the loop, you have to:\n",
    "    \n",
    "- make a bootstarp sample of the original “Training” Dataset (build in part(b)) with size of bootstarp_size = 0.8*(Size of the original dataset). You can use the following command to generate a random bootstrap dataset (“i\" is the variable of the loop, so the random_state changes in each iteration):\n",
    "- resample(X_train, n_samples = bootstarp_size , random_state=i , replace = True)\n",
    "\n",
    "- Define and train a new base decision tree classifier on this dataset in each iteration:\n",
    "-     Base_DecisionTree = DecisionTreeClassifier(random_state=2).\n",
    "                                                \n",
    "- Test “this base classifier” on the original “Testing” Dataset build in part(b), and save the prediction results for all testing samples.\n",
    "\n",
    "##### Then, Perform Voting to make the final decision on each data sample based on the votes of all 29 classifiers. Finally, calculate and report the accuracy and AUC of your Bagging method.\n",
    "\n",
    "##### NOTE: You need to calculate the probability of “malignant cancer” to be able to find AUC and plot the ROC curve. As mentioned in the class, you can consider the average (mean) of the votes as the probability for each sample."
   ]
  },
  {
   "cell_type": "code",
   "execution_count": 8,
   "metadata": {},
   "outputs": [
    {
     "name": "stdout",
     "output_type": "stream",
     "text": [
      "Accuracy for BAGGING : 0.9111111111111111\n",
      "AUC for BAGGING : 0.9054621848739496\n"
     ]
    }
   ],
   "source": [
    "b_results = []\n",
    "for i in range(29):\n",
    "        bootstrap_size = 0.8 * (X_train.shape[0])\n",
    "        B, c = resample(X_train, y_train, n_samples=int(bootstrap_size), random_state=i, replace=True)\n",
    "\n",
    "        Base_DecisionTree = DecisionTreeClassifier(random_state=3)\n",
    "        \n",
    "        Base_DecisionTree.fit(B, c)\n",
    "        c_predict = Base_DecisionTree.predict(X_test)\n",
    "\n",
    "        b_results.append(c_predict)        \n",
    "    \n",
    "col = len(b_results[0])\n",
    "row = len(b_results)\n",
    "\n",
    "voting = []\n",
    "\n",
    "for i in range(col):\n",
    "    vote_col = 0\n",
    "    for j in range(row):\n",
    "        if b_results[j][i] == 0:\n",
    "            vote_col -= 1\n",
    "        else:\n",
    "            vote_col += 1\n",
    "    if vote_col < 0:\n",
    "        vote_col = 0\n",
    "    elif vote_col > 0:\n",
    "        vote_col = 1\n",
    "\n",
    "    voting.append(vote_col)\n",
    "\n",
    "b_score = accuracy_score(y_test, voting)\n",
    "print('Accuracy for BAGGING :',b_score)\n",
    "\n",
    "bagging_results = pd.DataFrame()\n",
    "bagging_results['actual'] = y_test\n",
    "bagging_results['prediction'] = voting\n",
    "\n",
    "\n",
    "#print(bagging_results)\n",
    "fpr_B, tpr_B, thresholds_B = metrics.roc_curve(y_test, voting, pos_label=1)\n",
    "AUC_B = metrics.auc(fpr_B, tpr_B)\n",
    "print('AUC for BAGGING :' , AUC_B)\n",
    "\n"
   ]
  },
  {
   "cell_type": "markdown",
   "metadata": {},
   "source": [
    "##### e- Use scikit-learn “Adaboost” classifier to predict Cancer based on the training/testing datasets that you built in part (b). Then, calculate and report the accuracy and AUC of your classifier. Use this command to import and define your classifier:\n",
    "- from sklearn.ensemble import AdaBoostClassifier\n",
    "- my_AdaBoost = AdaBoostClassifier(n_estimators = 29,random_state=2)"
   ]
  },
  {
   "cell_type": "code",
   "execution_count": 9,
   "metadata": {},
   "outputs": [
    {
     "name": "stdout",
     "output_type": "stream",
     "text": [
      "Accuracy for AdaBoost: 0.9555555555555556\n",
      "AUC for AdaBoost 0.9653361344537815\n"
     ]
    }
   ],
   "source": [
    "my_AdaBoost = AdaBoostClassifier(n_estimators = 29, random_state=2)\n",
    "my_AdaBoost.fit(X_train,y_train)\n",
    "my_AdaBoost_predict= my_AdaBoost.predict(X_test)\n",
    "#print(my_AdaBoost_predict)\n",
    "accuracy_myAdaBoost =accuracy_score(y_test,my_AdaBoost_predict)\n",
    "print(\"Accuracy for AdaBoost:\",accuracy_myAdaBoost)\n",
    "\n",
    "# Estimating the probability (likelihood) of Each Label:\n",
    "y_predict_prob_Ab = my_AdaBoost.predict_proba(X_test)\n",
    "fpr_AB, tpr_AB, thresholds_AB = metrics.roc_curve(y_test, y_predict_prob_Ab[:,1], pos_label=1)\n",
    "AUC_AB = metrics.auc(fpr_AB, tpr_AB)\n",
    "print('AUC for AdaBoost',AUC_AB)"
   ]
  },
  {
   "cell_type": "markdown",
   "metadata": {},
   "source": [
    "##### f- In this section, we use an extremely popular Boosting algorithm called “XGBoost”. This algorithm is not included in sklearn, so you need to install the XGBoost library. Please see this for more infor: https://xgboost.readthedocs.io/en/latest/build.html Mac users can easily install it with “pip install xgboost”.Repeat part (e) with XGBoost. Use this command to import and define your classifier:\n",
    "- from xgboost import XGBClassifier\n",
    "- my_XGBoost = XGBClassifier(n_estimators = 29,random_state=2)"
   ]
  },
  {
   "cell_type": "code",
   "execution_count": 10,
   "metadata": {},
   "outputs": [
    {
     "name": "stdout",
     "output_type": "stream",
     "text": [
      "Accuracy for XGBoost: 0.9555555555555556\n",
      "AUC for XGBoost  0.9621848739495799\n"
     ]
    }
   ],
   "source": [
    "my_XGBoost = XGBClassifier(n_estimators = 29,random_state=2)\n",
    "my_XGBoost.fit(X_train,y_train)\n",
    "my_XGBoost_predict= my_XGBoost.predict(X_test)\n",
    "accuracy_my_XGBoost =accuracy_score(y_test,my_XGBoost_predict)\n",
    "print(\"Accuracy for XGBoost:\",accuracy_my_XGBoost)\n",
    "\n",
    "# Estimating the probability (likelihood) of Each Label:\n",
    "y_predict_prob_XGB = my_XGBoost.predict_proba(X_test)\n",
    "fpr_XGB, tpr_XGB, thresholds_XGB = metrics.roc_curve(y_test, y_predict_prob_XGB[:,1], pos_label=1)\n",
    "AUC_XGB = metrics.auc(fpr_XGB, tpr_XGB)\n",
    "print('AUC for XGBoost ',AUC_XGB)"
   ]
  },
  {
   "cell_type": "markdown",
   "metadata": {},
   "source": [
    "##### g- Use scikit-learn “Random Forest” classifier to predict Cancer based on the training/testing datasets that you built in part (b). Then, calculate and report the accuracy and AUC of your classifier. Use this command to import and define your classifier:\n",
    "- from sklearn.ensemble import RandomForestClassifier\n",
    "- my_RandomForest = RandomForestClassifier(n_estimators = 29, bootstrap = True, random_state=2)"
   ]
  },
  {
   "cell_type": "code",
   "execution_count": 11,
   "metadata": {},
   "outputs": [
    {
     "name": "stdout",
     "output_type": "stream",
     "text": [
      "Accuracy for Randomforest:  0.9555555555555556\n",
      "AUC for Randomforest:  0.9516806722689075\n"
     ]
    }
   ],
   "source": [
    "my_RandomForest = RandomForestClassifier(n_estimators=29, bootstrap=True, random_state=2)\n",
    "my_RandomForest.fit(X_train, y_train)\n",
    "rf_predict = my_RandomForest.predict(X_test)\n",
    "rf_score = accuracy_score(y_test, rf_predict)\n",
    "rf_results = pd.DataFrame()\n",
    "rf_results['actual'] = y_test\n",
    "rf_results['prediction'] = rf_predict\n",
    "print('Accuracy for Randomforest: ',rf_score)\n",
    "\n",
    "y_predict_prob_rf = my_RandomForest.predict_proba(X_test)\n",
    "fpr_rf, tpr_rf, thresholds_rf = metrics.roc_curve(y_test, y_predict_prob_rf[:,1], pos_label=1)\n",
    "AUC_rf = metrics.auc(fpr_rf, tpr_rf)\n",
    "print('AUC for Randomforest: ',AUC_rf)"
   ]
  },
  {
   "cell_type": "markdown",
   "metadata": {},
   "source": [
    "##### h- Now, plot the ROC curves of your algorithms in parts (c), (d), (e), (f), (g) in a single plane with different colors along with the name of each method. Show the AUCs on the graph as well.\n",
    "- Which algorithm is the best w.r.t the AUC value?\n",
    "- Which algorithm is the best w.r.t the Accuracy value?\n",
    "- Which algorithm is the best when we want a False Positive Rate of %7?"
   ]
  },
  {
   "cell_type": "code",
   "execution_count": 12,
   "metadata": {},
   "outputs": [
    {
     "data": {
      "image/png": "[encoded data removed]",
      "text/plain": [
       "<Figure size 432x288 with 1 Axes>"
      ]
     },
     "metadata": {
      "needs_background": "light"
     },
     "output_type": "display_data"
    }
   ],
   "source": [
    "%matplotlib inline\n",
    "\n",
    "plt.figure()\n",
    "\n",
    "plt.plot(fpr_DT, tpr_DT, color='orange', lw=3, label='ROC Curve DT (area = %0.2f)' % AUC_DT)\n",
    "plt.plot(fpr_B, tpr_B, color='green', lw=3, label='ROC Curve Bag (area = %0.2f)' % AUC_B)\n",
    "plt.plot(fpr_AB, tpr_AB, color='red', lw=3, label='ROC Curve AB (area = %0.2f)' % AUC_AB)\n",
    "plt.plot(fpr_XGB, tpr_XGB, color='yellow', lw=3, label='ROC Curve XGB (area = %0.2f)' % AUC_XGB)\n",
    "plt.plot(fpr_rf, tpr_rf, color='blue', lw=3, label='ROC Curve RF (area = %0.2f)' % AUC_rf)\n",
    "\n",
    "plt.plot([0, 1], [0, 1], color='black', lw=1, linestyle='--')\n",
    "\n",
    "# Defining The Range of X-Axis and Y-Axis:\n",
    "plt.xlim([-0.005, 1.005])\n",
    "plt.ylim([0.0, 1.01])\n",
    "\n",
    "# Labels, Title, Legend:\n",
    "plt.xlabel('False Positive Rate')\n",
    "plt.ylabel('True Positive Rate')\n",
    "plt.title('Receiver operating characteristic')\n",
    "plt.legend(loc=\"lower right\")\n",
    "\n",
    "plt.show()"
   ]
  },
  {
   "cell_type": "markdown",
   "metadata": {},
   "source": [
    "#### Which algorithm is the best w.r.t the AUC value?\n",
    "- AdaBoost Algorithm (AUC for AdaBoost 0.9653361344537815) \n",
    "\n",
    "#### Which algorithm is the best w.r.t the Accuracy value?\n",
    "- Adaboost (Accuracy for AdaBoost: 0.9555555555555556)\n",
    "- Random Forest (Accuracy for Randomforest:  0.9555555555555556)\n",
    "- XGBoost (Accuracy for XGBoost: 0.9555555555555556) \n",
    "\n",
    "#### Which algorithm is the best when we want a False Positive Rate of %7?\n",
    "- Random Forest"
   ]
  },
  {
   "cell_type": "code",
   "execution_count": null,
   "metadata": {},
   "outputs": [],
   "source": []
  }
 ],
 "metadata": {
  "kernelspec": {
   "display_name": "Python 3",
   "language": "python",
   "name": "python3"
  },
  "language_info": {
   "codemirror_mode": {
    "name": "ipython",
    "version": 3
   },
   "file_extension": ".py",
   "mimetype": "text/x-python",
   "name": "python",
   "nbconvert_exporter": "python",
   "pygments_lexer": "ipython3",
   "version": "3.7.1"
  }
 },
 "nbformat": 4,
 "nbformat_minor": 2
}
